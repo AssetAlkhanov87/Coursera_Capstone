{
 "cells": [
  {
   "cell_type": "markdown",
   "metadata": {},
   "source": [
    "## Coursera Capstone project by Asset Alkhanov"
   ]
  },
  {
   "cell_type": "code",
   "execution_count": 6,
   "metadata": {},
   "outputs": [],
   "source": [
    "import pandas as pd\n",
    "import numpy as np\n",
    "import geocoder # import geocoder\n",
    "import wikipedia\n",
    "from wikitables import import_tables"
   ]
  },
  {
   "cell_type": "code",
   "execution_count": 4,
   "metadata": {},
   "outputs": [
    {
     "name": "stdout",
     "output_type": "stream",
     "text": [
      "['List of postal codes of Canada: M', 'Postal codes in Canada', 'List of postal codes of Canada: T', 'List of postal codes of Canada: A', 'List of postal codes of Canada: H', 'List of postal codes of Canada: V', 'List of postal codes', 'List of postal codes of Canada: K', 'List of postal codes of Canada: E', 'List of postal codes of Canada: B']\n"
     ]
    }
   ],
   "source": [
    "print(wikipedia.search(\"List of postal codes of Canada: M\"))"
   ]
  },
  {
   "cell_type": "code",
   "execution_count": 5,
   "metadata": {},
   "outputs": [
    {
     "name": "stdout",
     "output_type": "stream",
     "text": [
      "This is a list of postal codes in Canada where the first letter is M. Postal codes beginning with M are located within the city of Toronto in the province of Ontario. Only the first three characters are listed, corresponding to the Forward Sortation Area.\n",
      "Canada Post provides a free postal code look-up tool on its website, via its applications for such smartphones as the iPhone and BlackBerry,  and sells hard-copy directories and CD-ROMs. Many vendors also sell validation tools, which allow customers to properly match addresses and postal codes. Hard-copy directories can also be consulted in all post offices, and some libraries.\n"
     ]
    }
   ],
   "source": [
    "print(wikipedia.summary(\"List of postal codes of Canada: M\"))"
   ]
  },
  {
   "cell_type": "code",
   "execution_count": 30,
   "metadata": {
    "scrolled": true
   },
   "outputs": [
    {
     "name": "stdout",
     "output_type": "stream",
     "text": [
      "[{\"Postal code\": \"M1A\", \"Borough\": \"Not assigned\", \"Neighborhood\": \"\"}, {\"Postal code\": \"M2A\", \"Borough\": \"Not assigned\", \"Neighborhood\": \"\"}, {\"Postal code\": \"M3A\", \"Borough\": \"North York\", \"Neighborhood\": \"Parkwoods\"}, {\"Postal code\": \"M4A\", \"Borough\": \"North York\", \"Neighborhood\": \"Victoria Village\"}, {\"Postal code\": \"M5A\", \"Borough\": \"Downtown Toronto\", \"Neighborhood\": \"Regent Park / Harbourfront\"}, {\"Postal code\": \"M6A\", \"Borough\": \"North York\", \"Neighborhood\": \"Lawrence Manor / Lawrence Heights\"}, {\"Postal code\": \"M7A\", \"Borough\": \"Downtown Toronto\", \"Neighborhood\": \"Queen's Park / Ontario Provincial Government\"}, {\"Postal code\": \"M8A\", \"Borough\": \"Not assigned\", \"Neighborhood\": \"\"}, {\"Postal code\": \"M9A\", \"Borough\": \"Etobicoke\", \"Neighborhood\": \"Islington Avenue\"}, {\"Postal code\": \"M1B\", \"Borough\": \"Scarborough\", \"Neighborhood\": \"Malvern / Rouge\"}, {\"Postal code\": \"M2B\", \"Borough\": \"Not assigned\", \"Neighborhood\": \"\"}, {\"Postal code\": \"M3B\", \"Borough\": \"North York\", \"Neighborhood\": \"Don Mills\"}, {\"Postal code\": \"M4B\", \"Borough\": \"East York\", \"Neighborhood\": \"Parkview Hill / Woodbine Gardens\"}, {\"Postal code\": \"M5B\", \"Borough\": \"Downtown Toronto\", \"Neighborhood\": \"Garden District, Ryerson\"}, {\"Postal code\": \"M6B\", \"Borough\": \"North York\", \"Neighborhood\": \"Glencairn\"}, {\"Postal code\": \"M7B\", \"Borough\": \"Not assigned\", \"Neighborhood\": \"\"}, {\"Postal code\": \"M8B\", \"Borough\": \"Not assigned\", \"Neighborhood\": \"\"}, {\"Postal code\": \"M9B\", \"Borough\": \"Etobicoke\", \"Neighborhood\": \"West Deane Park / Princess Gardens / Martin Grove / Islington / Cloverdale\"}, {\"Postal code\": \"M1C\", \"Borough\": \"Scarborough\", \"Neighborhood\": \"Rouge Hill / Port Union / Highland Creek\"}, {\"Postal code\": \"M2C\", \"Borough\": \"Not assigned\", \"Neighborhood\": \"\"}, {\"Postal code\": \"M3C\", \"Borough\": \"North York\", \"Neighborhood\": \"Don Mills\"}, {\"Postal code\": \"M4C\", \"Borough\": \"East York\", \"Neighborhood\": \"Woodbine Heights\"}, {\"Postal code\": \"M5C\", \"Borough\": \"Downtown Toronto\", \"Neighborhood\": \"St. James Town\"}, {\"Postal code\": \"M6C\", \"Borough\": \"York\", \"Neighborhood\": \"Humewood-Cedarvale\"}, {\"Postal code\": \"M7C\", \"Borough\": \"Not assigned\", \"Neighborhood\": \"\"}, {\"Postal code\": \"M8C\", \"Borough\": \"Not assigned\", \"Neighborhood\": \"\"}, {\"Postal code\": \"M9C\", \"Borough\": \"Etobicoke\", \"Neighborhood\": \"Eringate / Bloordale Gardens / Old Burnhamthorpe / Markland Wood\"}, {\"Postal code\": \"M1E\", \"Borough\": \"Scarborough\", \"Neighborhood\": \"Guildwood / Morningside / West Hill\"}, {\"Postal code\": \"M2E\", \"Borough\": \"Not assigned\", \"Neighborhood\": \"\"}, {\"Postal code\": \"M3E\", \"Borough\": \"Not assigned\", \"Neighborhood\": \"\"}, {\"Postal code\": \"M4E\", \"Borough\": \"East Toronto\", \"Neighborhood\": \"The Beaches\"}, {\"Postal code\": \"M5E\", \"Borough\": \"Downtown Toronto\", \"Neighborhood\": \"Berczy Park\"}, {\"Postal code\": \"M6E\", \"Borough\": \"York\", \"Neighborhood\": \"Caledonia-Fairbanks\"}, {\"Postal code\": \"M7E\", \"Borough\": \"Not assigned\", \"Neighborhood\": \"\"}, {\"Postal code\": \"M8E\", \"Borough\": \"Not assigned\", \"Neighborhood\": \"\"}, {\"Postal code\": \"M9E\", \"Borough\": \"Not assigned\", \"Neighborhood\": \"\"}, {\"Postal code\": \"M1G\", \"Borough\": \"Scarborough\", \"Neighborhood\": \"Woburn\"}, {\"Postal code\": \"M2G\", \"Borough\": \"Not assigned\", \"Neighborhood\": \"\"}, {\"Postal code\": \"M3G\", \"Borough\": \"Not assigned\", \"Neighborhood\": \"\"}, {\"Postal code\": \"M4G\", \"Borough\": \"East York\", \"Neighborhood\": \"Leaside\"}, {\"Postal code\": \"M5G\", \"Borough\": \"Downtown Toronto\", \"Neighborhood\": \"Central Bay Street\"}, {\"Postal code\": \"M6G\", \"Borough\": \"Downtown Toronto\", \"Neighborhood\": \"Christie\"}, {\"Postal code\": \"M7G\", \"Borough\": \"Not assigned\", \"Neighborhood\": \"\"}, {\"Postal code\": \"M8G\", \"Borough\": \"Not assigned\", \"Neighborhood\": \"\"}, {\"Postal code\": \"M9G\", \"Borough\": \"Not assigned\", \"Neighborhood\": \"\"}, {\"Postal code\": \"M1H\", \"Borough\": \"Scarborough\", \"Neighborhood\": \"Cedarbrae\"}, {\"Postal code\": \"M2H\", \"Borough\": \"North York\", \"Neighborhood\": \"Hillcrest Village\"}, {\"Postal code\": \"M3H\", \"Borough\": \"North York\", \"Neighborhood\": \"Bathurst Manor / Wilson Heights / Downsview North\"}, {\"Postal code\": \"M4H\", \"Borough\": \"East York\", \"Neighborhood\": \"Thorncliffe Park\"}, {\"Postal code\": \"M5H\", \"Borough\": \"Downtown Toronto\", \"Neighborhood\": \"Richmond / Adelaide / King\"}, {\"Postal code\": \"M6H\", \"Borough\": \"West Toronto\", \"Neighborhood\": \"Dufferin / Dovercourt Village\"}, {\"Postal code\": \"M7H\", \"Borough\": \"Not assigned\", \"Neighborhood\": \"\"}, {\"Postal code\": \"M8H\", \"Borough\": \"Not assigned\", \"Neighborhood\": \"\"}, {\"Postal code\": \"M9H\", \"Borough\": \"Not assigned\", \"Neighborhood\": \"\"}, {\"Postal code\": \"M1J\", \"Borough\": \"Scarborough\", \"Neighborhood\": \"Scarborough Village\"}, {\"Postal code\": \"M2J\", \"Borough\": \"North York\", \"Neighborhood\": \"Fairview / Henry Farm / Oriole\"}, {\"Postal code\": \"M3J\", \"Borough\": \"North York\", \"Neighborhood\": \"Northwood Park / York University\"}, {\"Postal code\": \"M4J\", \"Borough\": \"East York\", \"Neighborhood\": \"East Toronto\"}, {\"Postal code\": \"M5J\", \"Borough\": \"Downtown Toronto\", \"Neighborhood\": \"Harbourfront East / Union Station / Toronto Islands\"}, {\"Postal code\": \"M6J\", \"Borough\": \"West Toronto\", \"Neighborhood\": \"Little Portugal / Trinity\"}, {\"Postal code\": \"M7J\", \"Borough\": \"Not assigned\", \"Neighborhood\": \"\"}, {\"Postal code\": \"M8J\", \"Borough\": \"Not assigned\", \"Neighborhood\": \"\"}, {\"Postal code\": \"M9J\", \"Borough\": \"Not assigned\", \"Neighborhood\": \"\"}, {\"Postal code\": \"M1K\", \"Borough\": \"Scarborough\", \"Neighborhood\": \"Kennedy Park / Ionview / East Birchmount Park\"}, {\"Postal code\": \"M2K\", \"Borough\": \"North York\", \"Neighborhood\": \"Bayview Village\"}, {\"Postal code\": \"M3K\", \"Borough\": \"North York\", \"Neighborhood\": \"Downsview\"}, {\"Postal code\": \"M4K\", \"Borough\": \"East Toronto\", \"Neighborhood\": \"The Danforth West / Riverdale\"}, {\"Postal code\": \"M5K\", \"Borough\": \"Downtown Toronto\", \"Neighborhood\": \"Toronto Dominion Centre / Design Exchange\"}, {\"Postal code\": \"M6K\", \"Borough\": \"West Toronto\", \"Neighborhood\": \"Brockton / Parkdale Village / Exhibition Place\"}, {\"Postal code\": \"M7K\", \"Borough\": \"Not assigned\", \"Neighborhood\": \"\"}, {\"Postal code\": \"M8K\", \"Borough\": \"Not assigned\", \"Neighborhood\": \"\"}, {\"Postal code\": \"M9K\", \"Borough\": \"Not assigned\", \"Neighborhood\": \"\"}, {\"Postal code\": \"M1L\", \"Borough\": \"Scarborough\", \"Neighborhood\": \"Golden Mile / Clairlea / Oakridge\"}, {\"Postal code\": \"M2L\", \"Borough\": \"North York\", \"Neighborhood\": \"York Mills / Silver Hills\"}, {\"Postal code\": \"M3L\", \"Borough\": \"North York\", \"Neighborhood\": \"Downsview\"}, {\"Postal code\": \"M4L\", \"Borough\": \"East Toronto\", \"Neighborhood\": \"India Bazaar / The Beaches West\"}, {\"Postal code\": \"M5L\", \"Borough\": \"Downtown Toronto\", \"Neighborhood\": \"Commerce Court / Victoria Hotel\"}, {\"Postal code\": \"M6L\", \"Borough\": \"North York\", \"Neighborhood\": \"North Park / Maple Leaf Park / Upwood Park\"}, {\"Postal code\": \"M7L\", \"Borough\": \"Not assigned\", \"Neighborhood\": \"\"}, {\"Postal code\": \"M8L\", \"Borough\": \"Not assigned\", \"Neighborhood\": \"\"}, {\"Postal code\": \"M9L\", \"Borough\": \"North York\", \"Neighborhood\": \"Humber Summit\"}, {\"Postal code\": \"M1M\", \"Borough\": \"Scarborough\", \"Neighborhood\": \"Cliffside / Cliffcrest / Scarborough Village West\"}, {\"Postal code\": \"M2M\", \"Borough\": \"North York\", \"Neighborhood\": \"Willowdale / Newtonbrook\"}, {\"Postal code\": \"M3M\", \"Borough\": \"North York\", \"Neighborhood\": \"Downsview\"}, {\"Postal code\": \"M4M\", \"Borough\": \"East Toronto\", \"Neighborhood\": \"Studio District\"}, {\"Postal code\": \"M5M\", \"Borough\": \"North York\", \"Neighborhood\": \"Bedford Park / Lawrence Manor East\"}, {\"Postal code\": \"M6M\", \"Borough\": \"York\", \"Neighborhood\": \"Del Ray / Mount Dennis / Keelsdale and Silverthorn\"}, {\"Postal code\": \"M7M\", \"Borough\": \"Not assigned\", \"Neighborhood\": \"\"}, {\"Postal code\": \"M8M\", \"Borough\": \"Not assigned\", \"Neighborhood\": \"\"}, {\"Postal code\": \"M9M\", \"Borough\": \"North York\", \"Neighborhood\": \"Humberlea / Emery\"}, {\"Postal code\": \"M1N\", \"Borough\": \"Scarborough\", \"Neighborhood\": \"Birch Cliff / Cliffside West\"}, {\"Postal code\": \"M2N\", \"Borough\": \"North York\", \"Neighborhood\": \"Willowdale\"}, {\"Postal code\": \"M3N\", \"Borough\": \"North York\", \"Neighborhood\": \"Downsview\"}, {\"Postal code\": \"M4N\", \"Borough\": \"Central Toronto\", \"Neighborhood\": \"Lawrence Park\"}, {\"Postal code\": \"M5N\", \"Borough\": \"Central Toronto\", \"Neighborhood\": \"Roselawn\"}, {\"Postal code\": \"M6N\", \"Borough\": \"York\", \"Neighborhood\": \"Runnymede / The Junction North\"}, {\"Postal code\": \"M7N\", \"Borough\": \"Not assigned\", \"Neighborhood\": \"\"}, {\"Postal code\": \"M8N\", \"Borough\": \"Not assigned\", \"Neighborhood\": \"\"}, {\"Postal code\": \"M9N\", \"Borough\": \"York\", \"Neighborhood\": \"Weston\"}, {\"Postal code\": \"M1P\", \"Borough\": \"Scarborough\", \"Neighborhood\": \"Dorset Park / Wexford Heights / Scarborough Town Centre\"}, {\"Postal code\": \"M2P\", \"Borough\": \"North York\", \"Neighborhood\": \"York Mills West\"}, {\"Postal code\": \"M3P\", \"Borough\": \"Not assigned\", \"Neighborhood\": \"\"}, {\"Postal code\": \"M4P\", \"Borough\": \"Central Toronto\", \"Neighborhood\": \"Davisville North\"}, {\"Postal code\": \"M5P\", \"Borough\": \"Central Toronto\", \"Neighborhood\": \"Forest Hill North & West\"}, {\"Postal code\": \"M6P\", \"Borough\": \"West Toronto\", \"Neighborhood\": \"High Park / The Junction South\"}, {\"Postal code\": \"M7P\", \"Borough\": \"Not assigned\", \"Neighborhood\": \"\"}, {\"Postal code\": \"M8P\", \"Borough\": \"Not assigned\", \"Neighborhood\": \"\"}, {\"Postal code\": \"M9P\", \"Borough\": \"Etobicoke\", \"Neighborhood\": \"Westmount\"}, {\"Postal code\": \"M1R\", \"Borough\": \"Scarborough\", \"Neighborhood\": \"Wexford / Maryvale\"}, {\"Postal code\": \"M2R\", \"Borough\": \"North York\", \"Neighborhood\": \"Willowdale\"}, {\"Postal code\": \"M3R\", \"Borough\": \"Not assigned\", \"Neighborhood\": \"\"}, {\"Postal code\": \"M4R\", \"Borough\": \"Central Toronto\", \"Neighborhood\": \"North Toronto West\"}, {\"Postal code\": \"M5R\", \"Borough\": \"Central Toronto\", \"Neighborhood\": \"The Annex / North Midtown / Yorkville\"}, {\"Postal code\": \"M6R\", \"Borough\": \"West Toronto\", \"Neighborhood\": \"Parkdale / Roncesvalles\"}, {\"Postal code\": \"M7R\", \"Borough\": \"Mississauga\", \"Neighborhood\": \"Canada Post Gateway Processing Centre\"}, {\"Postal code\": \"M8R\", \"Borough\": \"Not assigned\", \"Neighborhood\": \"\"}, {\"Postal code\": \"M9R\", \"Borough\": \"Etobicoke\", \"Neighborhood\": \"Kingsview Village / St. Phillips / Martin Grove Gardens / Richview Gardens\"}, {\"Postal code\": \"M1S\", \"Borough\": \"Scarborough\", \"Neighborhood\": \"Agincourt\"}, {\"Postal code\": \"M2S\", \"Borough\": \"Not assigned\", \"Neighborhood\": \"\"}, {\"Postal code\": \"M3S\", \"Borough\": \"Not assigned\", \"Neighborhood\": \"\"}, {\"Postal code\": \"M4S\", \"Borough\": \"Central Toronto\", \"Neighborhood\": \"Davisville\"}, {\"Postal code\": \"M5S\", \"Borough\": \"Downtown Toronto\", \"Neighborhood\": \"University of Toronto / Harbord\"}, {\"Postal code\": \"M6S\", \"Borough\": \"West Toronto\", \"Neighborhood\": \"Runnymede / Swansea\"}, {\"Postal code\": \"M7S\", \"Borough\": \"Not assigned\", \"Neighborhood\": \"\"}, {\"Postal code\": \"M8S\", \"Borough\": \"Not assigned\", \"Neighborhood\": \"\"}, {\"Postal code\": \"M9S\", \"Borough\": \"Not assigned\", \"Neighborhood\": \"\"}, {\"Postal code\": \"M1T\", \"Borough\": \"Scarborough\", \"Neighborhood\": \"Clarks Corners / Tam O'Shanter / Sullivan\"}, {\"Postal code\": \"M2T\", \"Borough\": \"Not assigned\", \"Neighborhood\": \"\"}, {\"Postal code\": \"M3T\", \"Borough\": \"Not assigned\", \"Neighborhood\": \"\"}, {\"Postal code\": \"M4T\", \"Borough\": \"Central Toronto\", \"Neighborhood\": \"Moore Park / Summerhill East\"}, {\"Postal code\": \"M5T\", \"Borough\": \"Downtown Toronto\", \"Neighborhood\": \"Kensington Market / Chinatown / Grange Park\"}, {\"Postal code\": \"M6T\", \"Borough\": \"Not assigned\", \"Neighborhood\": \"\"}, {\"Postal code\": \"M7T\", \"Borough\": \"Not assigned\", \"Neighborhood\": \"\"}, {\"Postal code\": \"M8T\", \"Borough\": \"Not assigned\", \"Neighborhood\": \"\"}, {\"Postal code\": \"M9T\", \"Borough\": \"Not assigned\", \"Neighborhood\": \"\"}, {\"Postal code\": \"M1V\", \"Borough\": \"Scarborough\", \"Neighborhood\": \"Milliken / Agincourt North / Steeles East / L'Amoreaux East\"}, {\"Postal code\": \"M2V\", \"Borough\": \"Not assigned\", \"Neighborhood\": \"\"}, {\"Postal code\": \"M3V\", \"Borough\": \"Not assigned\", \"Neighborhood\": \"\"}, {\"Postal code\": \"M4V\", \"Borough\": \"Central Toronto\", \"Neighborhood\": \"Summerhill West / Rathnelly / South Hill / Forest Hill SE / Deer Park\"}, {\"Postal code\": \"M5V\", \"Borough\": \"Downtown Toronto\", \"Neighborhood\": \"CN Tower / King and Spadina / Railway Lands / Harbourfront West / Bathurst Quay / South Niagara / Island airport\"}, {\"Postal code\": \"M6V\", \"Borough\": \"Not assigned\", \"Neighborhood\": \"\"}, {\"Postal code\": \"M7V\", \"Borough\": \"Not assigned\", \"Neighborhood\": \"\"}, {\"Postal code\": \"M8V\", \"Borough\": \"Etobicoke\", \"Neighborhood\": \"New Toronto / Mimico South / Humber Bay Shores\"}, {\"Postal code\": \"M9V\", \"Borough\": \"Etobicoke\", \"Neighborhood\": \"South Steeles / Silverstone / Humbergate / Jamestown / Mount Olive / Beaumond Heights / Thistletown / Albion Gardens\"}, {\"Postal code\": \"M1W\", \"Borough\": \"Scarborough\", \"Neighborhood\": \"Steeles West / L'Amoreaux West\"}, {\"Postal code\": \"M2W\", \"Borough\": \"Not assigned\", \"Neighborhood\": \"\"}, {\"Postal code\": \"M3W\", \"Borough\": \"Not assigned\", \"Neighborhood\": \"\"}, {\"Postal code\": \"M4W\", \"Borough\": \"Downtown Toronto\", \"Neighborhood\": \"Rosedale\"}, {\"Postal code\": \"M5W\", \"Borough\": \"Downtown Toronto\", \"Neighborhood\": \"Stn A PO Boxes\"}, {\"Postal code\": \"M6W\", \"Borough\": \"Not assigned\", \"Neighborhood\": \"\"}, {\"Postal code\": \"M7W\", \"Borough\": \"Not assigned\", \"Neighborhood\": \"\"}, {\"Postal code\": \"M8W\", \"Borough\": \"Etobicoke\", \"Neighborhood\": \"Alderwood / Long Branch\"}, {\"Postal code\": \"M9W\", \"Borough\": \"Etobicoke\", \"Neighborhood\": \"Northwest\"}, {\"Postal code\": \"M1X\", \"Borough\": \"Scarborough\", \"Neighborhood\": \"Upper Rouge\"}, {\"Postal code\": \"M2X\", \"Borough\": \"Not assigned\", \"Neighborhood\": \"\"}, {\"Postal code\": \"M3X\", \"Borough\": \"Not assigned\", \"Neighborhood\": \"\"}, {\"Postal code\": \"M4X\", \"Borough\": \"Downtown Toronto\", \"Neighborhood\": \"St. James Town / Cabbagetown\"}, {\"Postal code\": \"M5X\", \"Borough\": \"Downtown Toronto\", \"Neighborhood\": \"First Canadian Place / Underground city\"}, {\"Postal code\": \"M6X\", \"Borough\": \"Not assigned\", \"Neighborhood\": \"\"}, {\"Postal code\": \"M7X\", \"Borough\": \"Not assigned\", \"Neighborhood\": \"\"}, {\"Postal code\": \"M8X\", \"Borough\": \"Etobicoke\", \"Neighborhood\": \"The Kingsway / Montgomery Road  / Old Mill North\"}, {\"Postal code\": \"M9X\", \"Borough\": \"Not assigned\", \"Neighborhood\": \"\"}, {\"Postal code\": \"M1Y\", \"Borough\": \"Not assigned\", \"Neighborhood\": \"\"}, {\"Postal code\": \"M2Y\", \"Borough\": \"Not assigned\", \"Neighborhood\": \"\"}, {\"Postal code\": \"M3Y\", \"Borough\": \"Not assigned\", \"Neighborhood\": \"\"}, {\"Postal code\": \"M4Y\", \"Borough\": \"Downtown Toronto\", \"Neighborhood\": \"Church and Wellesley\"}, {\"Postal code\": \"M5Y\", \"Borough\": \"Not assigned\", \"Neighborhood\": \"\"}, {\"Postal code\": \"M6Y\", \"Borough\": \"Not assigned\", \"Neighborhood\": \"\"}, {\"Postal code\": \"M7Y\", \"Borough\": \"East Toronto\", \"Neighborhood\": \"Business reply mail Processing CentrE\"}, {\"Postal code\": \"M8Y\", \"Borough\": \"Etobicoke\", \"Neighborhood\": \"Old Mill South / King's Mill Park / Sunnylea / Humber Bay / Mimico NE / The Queensway East / Royal York South East / Kingsway Park South East\"}, {\"Postal code\": \"M9Y\", \"Borough\": \"Not assigned\", \"Neighborhood\": \"\"}, {\"Postal code\": \"M1Z\", \"Borough\": \"Not assigned\", \"Neighborhood\": \"\"}, {\"Postal code\": \"M2Z\", \"Borough\": \"Not assigned\", \"Neighborhood\": \"\"}, {\"Postal code\": \"M3Z\", \"Borough\": \"Not assigned\", \"Neighborhood\": \"\"}, {\"Postal code\": \"M4Z\", \"Borough\": \"Not assigned\", \"Neighborhood\": \"\"}, {\"Postal code\": \"M5Z\", \"Borough\": \"Not assigned\", \"Neighborhood\": \"\"}, {\"Postal code\": \"M6Z\", \"Borough\": \"Not assigned\", \"Neighborhood\": \"\"}, {\"Postal code\": \"M7Z\", \"Borough\": \"Not assigned\", \"Neighborhood\": \"\"}, {\"Postal code\": \"M8Z\", \"Borough\": \"Etobicoke\", \"Neighborhood\": \"Mimico NW / The Queensway West / South of Bloor / Kingsway Park South West / Royal York South West\"}, {\"Postal code\": \"M9Z\", \"Borough\": \"Not assigned\", \"Neighborhood\": \"\"}]\n"
     ]
    }
   ],
   "source": [
    "tables = import_tables('List of postal codes of Canada: M')\n",
    "\"\"\"\n",
    "print(tables[0].name)\n",
    "for row in tables[0].rows:\n",
    "    print('{Postal code}: {Borough}: {Neighborhood}'.format(**row))\n",
    "\"\"\"\n",
    "tables_json = tables[0].json()\n",
    "print(tables_json)"
   ]
  },
  {
   "cell_type": "code",
   "execution_count": 37,
   "metadata": {},
   "outputs": [
    {
     "data": {
      "text/html": [
       "<div>\n",
       "<style scoped>\n",
       "    .dataframe tbody tr th:only-of-type {\n",
       "        vertical-align: middle;\n",
       "    }\n",
       "\n",
       "    .dataframe tbody tr th {\n",
       "        vertical-align: top;\n",
       "    }\n",
       "\n",
       "    .dataframe thead th {\n",
       "        text-align: right;\n",
       "    }\n",
       "</style>\n",
       "<table border=\"1\" class=\"dataframe\">\n",
       "  <thead>\n",
       "    <tr style=\"text-align: right;\">\n",
       "      <th></th>\n",
       "      <th>Postal code</th>\n",
       "      <th>Borough</th>\n",
       "      <th>Neighborhood</th>\n",
       "    </tr>\n",
       "  </thead>\n",
       "  <tbody>\n",
       "    <tr>\n",
       "      <th>0</th>\n",
       "      <td>M1A</td>\n",
       "      <td>Not assigned</td>\n",
       "      <td></td>\n",
       "    </tr>\n",
       "    <tr>\n",
       "      <th>1</th>\n",
       "      <td>M2A</td>\n",
       "      <td>Not assigned</td>\n",
       "      <td></td>\n",
       "    </tr>\n",
       "    <tr>\n",
       "      <th>2</th>\n",
       "      <td>M3A</td>\n",
       "      <td>North York</td>\n",
       "      <td>Parkwoods</td>\n",
       "    </tr>\n",
       "    <tr>\n",
       "      <th>3</th>\n",
       "      <td>M4A</td>\n",
       "      <td>North York</td>\n",
       "      <td>Victoria Village</td>\n",
       "    </tr>\n",
       "    <tr>\n",
       "      <th>4</th>\n",
       "      <td>M5A</td>\n",
       "      <td>Downtown Toronto</td>\n",
       "      <td>Regent Park / Harbourfront</td>\n",
       "    </tr>\n",
       "    <tr>\n",
       "      <th>...</th>\n",
       "      <td>...</td>\n",
       "      <td>...</td>\n",
       "      <td>...</td>\n",
       "    </tr>\n",
       "    <tr>\n",
       "      <th>175</th>\n",
       "      <td>M5Z</td>\n",
       "      <td>Not assigned</td>\n",
       "      <td></td>\n",
       "    </tr>\n",
       "    <tr>\n",
       "      <th>176</th>\n",
       "      <td>M6Z</td>\n",
       "      <td>Not assigned</td>\n",
       "      <td></td>\n",
       "    </tr>\n",
       "    <tr>\n",
       "      <th>177</th>\n",
       "      <td>M7Z</td>\n",
       "      <td>Not assigned</td>\n",
       "      <td></td>\n",
       "    </tr>\n",
       "    <tr>\n",
       "      <th>178</th>\n",
       "      <td>M8Z</td>\n",
       "      <td>Etobicoke</td>\n",
       "      <td>Mimico NW / The Queensway West / South of Bloo...</td>\n",
       "    </tr>\n",
       "    <tr>\n",
       "      <th>179</th>\n",
       "      <td>M9Z</td>\n",
       "      <td>Not assigned</td>\n",
       "      <td></td>\n",
       "    </tr>\n",
       "  </tbody>\n",
       "</table>\n",
       "<p>180 rows × 3 columns</p>\n",
       "</div>"
      ],
      "text/plain": [
       "    Postal code           Borough  \\\n",
       "0           M1A      Not assigned   \n",
       "1           M2A      Not assigned   \n",
       "2           M3A        North York   \n",
       "3           M4A        North York   \n",
       "4           M5A  Downtown Toronto   \n",
       "..          ...               ...   \n",
       "175         M5Z      Not assigned   \n",
       "176         M6Z      Not assigned   \n",
       "177         M7Z      Not assigned   \n",
       "178         M8Z         Etobicoke   \n",
       "179         M9Z      Not assigned   \n",
       "\n",
       "                                          Neighborhood  \n",
       "0                                                       \n",
       "1                                                       \n",
       "2                                            Parkwoods  \n",
       "3                                     Victoria Village  \n",
       "4                           Regent Park / Harbourfront  \n",
       "..                                                 ...  \n",
       "175                                                     \n",
       "176                                                     \n",
       "177                                                     \n",
       "178  Mimico NW / The Queensway West / South of Bloo...  \n",
       "179                                                     \n",
       "\n",
       "[180 rows x 3 columns]"
      ]
     },
     "execution_count": 37,
     "metadata": {},
     "output_type": "execute_result"
    }
   ],
   "source": [
    "df = pd.read_json( tables_json )\n",
    "df2 = pd.DataFrame(df, columns=['Postal code', 'Borough', 'Neighborhood'])\n",
    "df2"
   ]
  },
  {
   "cell_type": "code",
   "execution_count": null,
   "metadata": {},
   "outputs": [],
   "source": []
  },
  {
   "cell_type": "code",
   "execution_count": null,
   "metadata": {},
   "outputs": [],
   "source": []
  }
 ],
 "metadata": {
  "kernelspec": {
   "display_name": "Python 3",
   "language": "python",
   "name": "python3"
  },
  "language_info": {
   "codemirror_mode": {
    "name": "ipython",
    "version": 3
   },
   "file_extension": ".py",
   "mimetype": "text/x-python",
   "name": "python",
   "nbconvert_exporter": "python",
   "pygments_lexer": "ipython3",
   "version": "3.7.4"
  }
 },
 "nbformat": 4,
 "nbformat_minor": 4
}
