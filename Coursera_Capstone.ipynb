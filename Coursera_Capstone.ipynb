{
 "cells": [
  {
   "cell_type": "markdown",
   "metadata": {},
   "source": [
    "## Coursera Capstone project by Asset Alkhanov"
   ]
  },
  {
   "cell_type": "code",
   "execution_count": 1,
   "metadata": {},
   "outputs": [],
   "source": [
    "import pandas as pd\n",
    "import numpy as np\n",
    "import geocoder # import geocoder\n",
    "import wikipedia\n",
    "from wikitables import import_tables"
   ]
  },
  {
   "cell_type": "code",
   "execution_count": 2,
   "metadata": {},
   "outputs": [],
   "source": [
    "#print(wikipedia.search(\"List of postal codes of Canada: M\"))"
   ]
  },
  {
   "cell_type": "code",
   "execution_count": 3,
   "metadata": {},
   "outputs": [],
   "source": [
    "#print(wikipedia.summary(\"List of postal codes of Canada: M\"))"
   ]
  },
  {
   "cell_type": "markdown",
   "metadata": {},
   "source": [
    "Below table fetched as a JSON file"
   ]
  },
  {
   "cell_type": "code",
   "execution_count": 4,
   "metadata": {
    "scrolled": true
   },
   "outputs": [],
   "source": [
    "tables = import_tables('List of postal codes of Canada: M')\n",
    "\"\"\"\n",
    "print(tables[0].name)\n",
    "for row in tables[0].rows:\n",
    "    print('{Postal code}: {Borough}: {Neighborhood}'.format(**row))\n",
    "\"\"\"\n",
    "tables_json = tables[0].json()\n",
    "#print(tables_json)"
   ]
  },
  {
   "cell_type": "markdown",
   "metadata": {},
   "source": [
    "Filtering necessary data from the table"
   ]
  },
  {
   "cell_type": "code",
   "execution_count": 7,
   "metadata": {},
   "outputs": [
    {
     "data": {
      "text/plain": [
       "(103, 3)"
      ]
     },
     "execution_count": 7,
     "metadata": {},
     "output_type": "execute_result"
    }
   ],
   "source": [
    "df = pd.read_json( tables_json )\n",
    "df2 = pd.DataFrame(df, columns=['Postal code', 'Borough', 'Neighborhood'])\n",
    "filt = (df2['Borough'] != 'Not assigned')\n",
    "new = df2[filt].drop('Neighborhood',axis = 1)\n",
    "new['Neighborhood'] = df2[filt]['Neighborhood'].str.replace('/',',')\n",
    "new.reset_index(drop=True,inplace = True)\n",
    "new.shape"
   ]
  },
  {
   "cell_type": "raw",
   "metadata": {},
   "source": []
  },
  {
   "cell_type": "code",
   "execution_count": null,
   "metadata": {},
   "outputs": [],
   "source": []
  }
 ],
 "metadata": {
  "kernelspec": {
   "display_name": "Python 3",
   "language": "python",
   "name": "python3"
  },
  "language_info": {
   "codemirror_mode": {
    "name": "ipython",
    "version": 3
   },
   "file_extension": ".py",
   "mimetype": "text/x-python",
   "name": "python",
   "nbconvert_exporter": "python",
   "pygments_lexer": "ipython3",
   "version": "3.7.4"
  }
 },
 "nbformat": 4,
 "nbformat_minor": 4
}
